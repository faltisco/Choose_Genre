{
 "cells": [
  {
   "cell_type": "code",
   "execution_count": 1,
   "metadata": {},
   "outputs": [],
   "source": [
    "\n",
    "import config                      # to hide TMDB API keys\n",
    "import tmdbsimple as tmdb          # tmdbsimple 2.2.0\n",
    "tmdb.API_KEY = config.tmdb_api_key # get TMDB API key from config.py file\n",
    "\n",
    "import pandas as pd\n",
    "import matplotlib\n",
    "import matplotlib.pyplot as plt\n",
    "from matplotlib.ticker import FuncFormatter # to format currency on charts axis\n",
    "\n"
   ]
  },
  {
   "cell_type": "code",
   "execution_count": 2,
   "metadata": {},
   "outputs": [
    {
     "ename": "SyntaxError",
     "evalue": "invalid syntax (<ipython-input-2-be2eef860004>, line 2)",
     "output_type": "error",
     "traceback": [
      "\u001b[0;36m  File \u001b[0;32m\"<ipython-input-2-be2eef860004>\"\u001b[0;36m, line \u001b[0;32m2\u001b[0m\n\u001b[0;31m    https://api.themoviedb.org/3/person/1370/movie_credits?api_key=config.tmdb_api_key&language=en-US\u001b[0m\n\u001b[0m           ^\u001b[0m\n\u001b[0;31mSyntaxError\u001b[0m\u001b[0;31m:\u001b[0m invalid syntax\n"
     ]
    }
   ],
   "source": [
    "\n",
    "https://api.themoviedb.org/3/person/1370/movie_credits?api_key=config.tmdb_api_key&language=en-US"
   ]
  },
  {
   "cell_type": "code",
   "execution_count": 14,
   "metadata": {},
   "outputs": [
    {
     "data": {
      "text/plain": [
       "8078"
      ]
     },
     "execution_count": 14,
     "metadata": {},
     "output_type": "execute_result"
    }
   ],
   "source": [
    "search_1 = tmdb.Search()      #How to find unique movie identifier\n",
    "response_movie = search_1.movie(query='Alien Resurrection')\n",
    "search_1.results[0]['id']"
   ]
  },
  {
   "cell_type": "code",
   "execution_count": 16,
   "metadata": {},
   "outputs": [
    {
     "data": {
      "text/plain": [
       "1116873"
      ]
     },
     "execution_count": 16,
     "metadata": {},
     "output_type": "execute_result"
    }
   ],
   "source": [
    "search_2 = tmdb.Search()      #How to find unique movie identifier\n",
    "response_person = search_2.person(query='Robert Faltisco')\n",
    "search_2.results[0]['id']"
   ]
  },
  {
   "cell_type": "code",
   "execution_count": null,
   "metadata": {},
   "outputs": [],
   "source": [
    "movie_1 = tmdb.Movies(8078)\n",
    "response = movie_1.info()\n",
    "movie_1.title"
   ]
  },
  {
   "cell_type": "code",
   "execution_count": null,
   "metadata": {},
   "outputs": [],
   "source": [
    "credits_1 = movie_1.credits()\n",
    "credit_1_length = len(credits['cast'])    #How many in cast\n",
    "credit_1_length"
   ]
  },
  {
   "cell_type": "code",
   "execution_count": null,
   "metadata": {},
   "outputs": [],
   "source": [
    "tmdb.Movies(8078).credits()['cast'][20]   ['id']\n",
    "#                 |credits|  cast |list   |  unique id\n",
    "# object|movie'id'| method|  dict |ofpeople  "
   ]
  },
  {
   "cell_type": "code",
   "execution_count": null,
   "metadata": {},
   "outputs": [],
   "source": [
    "# for i in range(20, credit_1_length):    #Loop thru credits\n",
    "#     print(credits_1['cast'][i]['name'])\n",
    "#     print(credits_1['cast'][i]['id'])"
   ]
  },
  {
   "cell_type": "code",
   "execution_count": null,
   "metadata": {
    "scrolled": true
   },
   "outputs": [],
   "source": [
    "movie_1.info()"
   ]
  },
  {
   "cell_type": "code",
   "execution_count": null,
   "metadata": {},
   "outputs": [],
   "source": [
    "for genre in movie_1.info()['genres']:\n",
    "    print(genre['name'])"
   ]
  },
  {
   "cell_type": "code",
   "execution_count": null,
   "metadata": {},
   "outputs": [],
   "source": [
    "movie_1.popularity"
   ]
  },
  {
   "cell_type": "code",
   "execution_count": null,
   "metadata": {},
   "outputs": [],
   "source": [
    "movie_1.vote_count"
   ]
  },
  {
   "cell_type": "code",
   "execution_count": null,
   "metadata": {},
   "outputs": [],
   "source": [
    "movie_1.vote_average"
   ]
  },
  {
   "cell_type": "code",
   "execution_count": null,
   "metadata": {},
   "outputs": [],
   "source": [
    "movie_1.overview"
   ]
  },
  {
   "cell_type": "code",
   "execution_count": null,
   "metadata": {
    "scrolled": false
   },
   "outputs": [],
   "source": [
    "for item in movie_1.cast[:]:\n",
    "    if item['id']==1370:\n",
    "        print(item['name'])"
   ]
  },
  {
   "cell_type": "code",
   "execution_count": 6,
   "metadata": {},
   "outputs": [
    {
     "data": {
      "text/plain": [
       "1116873"
      ]
     },
     "execution_count": 6,
     "metadata": {},
     "output_type": "execute_result"
    }
   ],
   "source": [
    "tmdb.Movies(8078).credits()['cast'][20]   ['id']\n",
    "#                 |credits|  cast |list   |  unique id\n",
    "# object|movie'id'| method|  dict |ofpeople  "
   ]
  },
  {
   "cell_type": "code",
   "execution_count": 10,
   "metadata": {},
   "outputs": [],
   "source": [
    "search_3 = tmdb.People('1116873')\n",
    "response_3 = search_3.movie_credits()\n",
    "# for s in search_2.results:\n",
    "#     print(s['credits']) #, s['id'], s['budget'], s['revenue'], \n",
    " #             s['popularity'])"
   ]
  },
  {
   "cell_type": "code",
   "execution_count": 11,
   "metadata": {
    "scrolled": true
   },
   "outputs": [
    {
     "data": {
      "text/plain": [
       "{'cast': [{'character': 'Anchorage Ensign',\n",
       "   'credit_id': '52fe428fc3a36847f8028309',\n",
       "   'poster_path': '/5axr56XqJH2xqkzI4j5sjzgV1Hu.jpg',\n",
       "   'id': 929,\n",
       "   'video': False,\n",
       "   'vote_count': 2038,\n",
       "   'adult': False,\n",
       "   'backdrop_path': '/d8aOyxSMD7oQGFsPORCU8AJ6EQ3.jpg',\n",
       "   'genre_ids': [878, 28, 53],\n",
       "   'original_language': 'en',\n",
       "   'original_title': 'Godzilla',\n",
       "   'popularity': 16.467,\n",
       "   'title': 'Godzilla',\n",
       "   'vote_average': 5.5,\n",
       "   'overview': 'When a freighter is viciously attacked in the Pacific Ocean, a team of experts -- including biologist Niko Tatopoulos and scientists Elsie Chapman and Mendel Craven -- concludes that an oversized reptile is the culprit. Before long, the giant lizard is loose in Manhattan, destroying everything within its reach. The team chases the monster to Madison Square Garden, where a brutal battle ensues.',\n",
       "   'release_date': '1998-05-20'},\n",
       "  {'character': 'Soldier Shot Through Helmet',\n",
       "   'credit_id': '5792094f9251411f7100139b',\n",
       "   'release_date': '1997-11-26',\n",
       "   'vote_count': 2477,\n",
       "   'video': False,\n",
       "   'adult': False,\n",
       "   'vote_average': 6,\n",
       "   'title': 'Alien Resurrection',\n",
       "   'genre_ids': [28, 27, 878],\n",
       "   'original_language': 'en',\n",
       "   'original_title': 'Alien Resurrection',\n",
       "   'popularity': 18.024,\n",
       "   'id': 8078,\n",
       "   'backdrop_path': '/1F8KilfgVwWTB1tIzfwoKUvPqpl.jpg',\n",
       "   'overview': 'Two hundred years after Lt. Ripley died, a group of scientists clone her, hoping to breed the ultimate weapon. But the new Ripley is full of surprises … as are the new aliens. Ripley must team with a band of smugglers to keep the creatures from reaching Earth.',\n",
       "   'poster_path': '/2mavulZivbQa8XZlRA6h3hmesl7.jpg'}],\n",
       " 'crew': [],\n",
       " 'id': 1116873}"
      ]
     },
     "execution_count": 11,
     "metadata": {},
     "output_type": "execute_result"
    }
   ],
   "source": [
    "response_3"
   ]
  },
  {
   "cell_type": "code",
   "execution_count": null,
   "metadata": {},
   "outputs": [],
   "source": [
    "movie_1.cast[:]['id']#==1370    #Does search query look like this?"
   ]
  },
  {
   "cell_type": "code",
   "execution_count": null,
   "metadata": {},
   "outputs": [],
   "source": [
    "if movie_1.cast[:][0]['id']==1370:\n",
    "    print (movie_1.cast[:][0]['name'])\n"
   ]
  }
 ],
 "metadata": {
  "kernelspec": {
   "display_name": "Python 3",
   "language": "python",
   "name": "python3"
  },
  "language_info": {
   "codemirror_mode": {
    "name": "ipython",
    "version": 3
   },
   "file_extension": ".py",
   "mimetype": "text/x-python",
   "name": "python",
   "nbconvert_exporter": "python",
   "pygments_lexer": "ipython3",
   "version": "3.7.3"
  }
 },
 "nbformat": 4,
 "nbformat_minor": 2
}
